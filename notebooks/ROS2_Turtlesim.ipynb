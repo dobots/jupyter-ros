{
 "cells": [
  {
   "cell_type": "code",
   "execution_count": 1,
   "id": "7259a8b6",
   "metadata": {},
   "outputs": [],
   "source": [
    "import rclpy as rp\n",
    "import jupyros.ros2 as jr2\n",
    "import turtle_sim as turtle\n",
    "from turtlesim.srv import Spawn\n",
    "from turtlesim.msg import Pose\n",
    "from time import time\n",
    "import os\n",
    "from std_msgs.msg import String\n",
    "from geometry_msgs.msg import Twist\n",
    "from sidecar import Sidecar\n",
    "from time import time, sleep\n",
    "import math\n",
    "\n"
   ]
  },
  {
   "cell_type": "code",
   "execution_count": 2,
   "id": "1964ecfc-67ee-47bf-aad3-824315c4418d",
   "metadata": {},
   "outputs": [],
   "source": [
    "# Initialize ROS communications for a given context\n",
    "if(rp.ok() == False):\n",
    "    rp.init()\n",
    "else:\n",
    "    print(\"rclpy already initiated\")"
   ]
  },
  {
   "cell_type": "code",
   "execution_count": 3,
   "id": "47354d6d-8c92-47ce-9f85-c0c1e403d8bf",
   "metadata": {},
   "outputs": [],
   "source": [
    "superturtle = rp.create_node(\"superturtle\")\n",
    "key = rp.create_node(\"keyInput\")\n",
    "com = rp.create_node(\"com\")\n",
    "simple = rp.create_node(\"simple\")\n",
    "translate = rp.create_node(\"translate\")"
   ]
  },
  {
   "cell_type": "code",
   "execution_count": 4,
   "id": "3bdbfe05-c4d3-4fd3-abfa-f38b039d4541",
   "metadata": {},
   "outputs": [],
   "source": [
    "pub_node = com.create_publisher(Twist,'/cmd_vel',10)\n"
   ]
  },
  {
   "cell_type": "code",
   "execution_count": 5,
   "id": "2dbf024d",
   "metadata": {
    "tags": []
   },
   "outputs": [
    {
     "name": "stdout",
     "output_type": "stream",
     "text": [
      "turtle1 has spawned.\n"
     ]
    },
    {
     "data": {
      "application/vnd.jupyter.widget-view+json": {
       "model_id": "ba87b8f4efdd4d1381e951d3fa3aac2b",
       "version_major": 2,
       "version_minor": 0
      },
      "text/plain": [
       "MultiCanvas(height=1600, layout=Layout(width='100%'), width=1600)"
      ]
     },
     "metadata": {},
     "output_type": "display_data"
    }
   ],
   "source": [
    "turtlesim = turtle.TurtleSim(background_color=\"#0000FF\")\n",
    "display(turtlesim.canvas)"
   ]
  },
  {
   "cell_type": "code",
   "execution_count": 6,
   "id": "347b508d-4568-4cc2-b8da-c05f26b6f606",
   "metadata": {
    "jupyter": {
     "source_hidden": true
    },
    "tags": []
   },
   "outputs": [],
   "source": [
    "def cb(msg):\n",
    "    \n",
    "    key = msg.data\n",
    "    \n",
    "    ## General Keybindings \n",
    "    ## \"key: (x, y, z, a (alpha), b (beta), g (gamma)\"\n",
    "    \n",
    "    moveBindings = {\n",
    "    'ArrowLeft': (0,0,0,1),\n",
    "    'ArrowRight':(0,0,0,-1),\n",
    "    'ArrowUp': (1,0,0,0),\n",
    "    'ArrowDown': (-1,0,0,0)\n",
    "    }\n",
    "\n",
    "    \"\"\"\n",
    "    'i': (1, 0, 0, 0, 0, 0),\n",
    "    'o': (1, 0, 0, -1, 0, 0)),\n",
    "    'j': (0, 0, 0, 1, 0, 0)),\n",
    "    'l': (0, 0, 0, -1, 0, 0)),\n",
    "    'u': (1, 0, 0, 1, 0, 0)),\n",
    "    ',': (-1, 0, 0, 0, 0, 0)),\n",
    "    '.': (-1, 0, 0, 1, 0, 0)),\n",
    "    'm': (-1, 0, 0, -1, 0, 0)),\n",
    "    'O': (1, -1, 0, 0, 0, 0)),\n",
    "    'I': (1, 0, 0, 0, 0, 0)),\n",
    "    'J': (0, 1, 0, 0, 0, 0)),\n",
    "    'L': (0, -1, 0, 0, 0, 0)),\n",
    "    'U': (1, 1, 0, 0, 0, 0)),\n",
    "    '<': (-1, 0, 0, 0, 0, 0)),\n",
    "    '>': (-1, -1, 0, 0, 0, 0)),\n",
    "    'M': (-1, 1, 0, 0), 0, 0),\n",
    "    't': (0, 0, 1, 0, 0, 0)),\n",
    "    'b': (0, 0, -1, 0, 0, 0)),\n",
    "    \"\"\"\n",
    "\n",
    "\n",
    "    \n",
    "    \n",
    "    ## General Keybinding Decoder\n",
    "    if key in moveBindings.keys():\n",
    "        x = moveBindings[key][0]\n",
    "        y = moveBindings[key][1]\n",
    "        z = moveBindings[key][2]\n",
    "        a = moveBindings[key][3]\n",
    "        b = moveBindings[key][4]\n",
    "        g = moveBindings[key][5]\n",
    "        \n",
    "    else:\n",
    "        x = 0.0\n",
    "        y = 0.0\n",
    "        z = 0.0\n",
    "        a = 0.0\n",
    "        b = 0.0\n",
    "        g = 0.0\n",
    "   \n",
    "    twist = Twist()\n",
    "    twist.linear.x = x\n",
    "    twist.angular.z = g \n",
    "\n",
    "    pub_node.publish(twist)\n",
    "\n",
    "\n",
    "    return 0"
   ]
  },
  {
   "cell_type": "markdown",
   "id": "ece1ece3-54f6-4df8-be79-42d7f37f6e08",
   "metadata": {},
   "source": [
    "**TIP:** When using JupyterLab, you can right-click on the canvas and select *Create New View from Output*"
   ]
  },
  {
   "cell_type": "code",
   "execution_count": 7,
   "id": "22c83e64-4e97-4eb5-83a1-c2c6c3946955",
   "metadata": {},
   "outputs": [
    {
     "name": "stdout",
     "output_type": "stream",
     "text": [
      "simon has spawned.\n",
      "turtle3 has spawned.\n"
     ]
    }
   ],
   "source": [
    "# Canvas default size is 1600x1600 starting from top-left corner\n",
    "turtlesim.spawn(name=\"simon\", pose={\"x\": 600, \"y\": 350, \"theta\": 20})\n",
    "\n",
    "turtlesim.spawn(pose={\"x\": 1050, \"y\": 1250, \"theta\": 90})\n",
    "\n",
    "# Change the turtle path color\n",
    "turtlesim.turtles[\"turtle1\"].path_color = \"#F2F2F2\""
   ]
  },
  {
   "cell_type": "markdown",
   "id": "9283fe4c-053c-45a4-9d55-20bd0c66fb6e",
   "metadata": {},
   "source": [
    "Open two terminals and run:\n",
    "\n",
    "```sh\n",
    "rosrun turtlesim turtlesim_node\n",
    "rosrun turtlesim turtle_teleop_key\n",
    "```"
   ]
  },
  {
   "cell_type": "markdown",
   "id": "ac91211f",
   "metadata": {},
   "source": [
    "### Subscriber"
   ]
  },
  {
   "cell_type": "code",
   "execution_count": 8,
   "id": "497db1e0-8c21-4ec0-b620-1607ab34d685",
   "metadata": {},
   "outputs": [
    {
     "name": "stdout",
     "output_type": "stream",
     "text": [
      "{'x': 800, 'y': 800, 'theta': 0}\n"
     ]
    }
   ],
   "source": [
    "poses = {}\n",
    "\n",
    "for name in turtlesim.turtles.keys():\n",
    "    poses[name] = turtlesim.turtles[name].pose\n",
    "    \n",
    "print(poses[\"turtle1\"])"
   ]
  },
  {
   "cell_type": "code",
   "execution_count": 9,
   "id": "cd2e66dc",
   "metadata": {},
   "outputs": [
    {
     "ename": "NameError",
     "evalue": "name 'subscriber_registry' is not defined",
     "output_type": "error",
     "traceback": [
      "\u001b[0;31m---------------------------------------------------------------------------\u001b[0m",
      "\u001b[0;31mNameError\u001b[0m                                 Traceback (most recent call last)",
      "Cell \u001b[0;32mIn [9], line 22\u001b[0m\n\u001b[1;32m     16\u001b[0m     poses[name] \u001b[38;5;241m=\u001b[39m {\u001b[38;5;124m\"\u001b[39m\u001b[38;5;124mx\u001b[39m\u001b[38;5;124m\"\u001b[39m: x,\n\u001b[1;32m     17\u001b[0m                    \u001b[38;5;124m\"\u001b[39m\u001b[38;5;124my\u001b[39m\u001b[38;5;124m\"\u001b[39m: y,\n\u001b[1;32m     18\u001b[0m                    \u001b[38;5;124m\"\u001b[39m\u001b[38;5;124mtheta\u001b[39m\u001b[38;5;124m\"\u001b[39m: msg\u001b[38;5;241m.\u001b[39mtheta}\n\u001b[1;32m     20\u001b[0m     turtlesim\u001b[38;5;241m.\u001b[39mmove_turtles(new_poses\u001b[38;5;241m=\u001b[39mposes)\n\u001b[0;32m---> 22\u001b[0m \u001b[43mjr2\u001b[49m\u001b[38;5;241;43m.\u001b[39;49m\u001b[43msubscribe\u001b[49m\u001b[43m(\u001b[49m\u001b[43mtopic_name\u001b[49m\u001b[43m,\u001b[49m\u001b[43m \u001b[49m\u001b[43mPose\u001b[49m\u001b[43m,\u001b[49m\u001b[43m \u001b[49m\u001b[38;5;28;43;01mlambda\u001b[39;49;00m\u001b[43m \u001b[49m\u001b[43mmsg\u001b[49m\u001b[43m:\u001b[49m\u001b[43m \u001b[49m\u001b[43mcallback_move_turtles\u001b[49m\u001b[43m(\u001b[49m\u001b[43mmsg\u001b[49m\u001b[43m)\u001b[49m\u001b[43m)\u001b[49m\n",
      "File \u001b[0;32m/usr/local/lib/python3.8/dist-packages/jupyros/ros2/subscriber.py:180\u001b[0m, in \u001b[0;36msubscribe\u001b[0;34m(topic, msg_type, callback)\u001b[0m\n\u001b[1;32m    169\u001b[0m \u001b[38;5;28;01mdef\u001b[39;00m \u001b[38;5;21msubscribe\u001b[39m(topic, msg_type, callback):\n\u001b[1;32m    170\u001b[0m     \u001b[38;5;124;03m\"\"\"\u001b[39;00m\n\u001b[1;32m    171\u001b[0m \u001b[38;5;124;03m    Subscribes to a specific topic in another thread, but redirects output!\u001b[39;00m\n\u001b[1;32m    172\u001b[0m \n\u001b[0;32m   (...)\u001b[0m\n\u001b[1;32m    177\u001b[0m \u001b[38;5;124;03m    @return Jupyter output widget\u001b[39;00m\n\u001b[1;32m    178\u001b[0m \u001b[38;5;124;03m    \"\"\"\u001b[39;00m\n\u001b[0;32m--> 180\u001b[0m     \u001b[38;5;28;01mif\u001b[39;00m \u001b[43msubscriber_registry\u001b[49m\u001b[38;5;241m.\u001b[39mget(topic):\n\u001b[1;32m    181\u001b[0m         \u001b[38;5;28mprint\u001b[39m(\u001b[38;5;124m\"\u001b[39m\u001b[38;5;124mRemoving previous callback, only one redirection possible right now\u001b[39m\u001b[38;5;124m\"\u001b[39m, file\u001b[38;5;241m=\u001b[39msys\u001b[38;5;241m.\u001b[39mstderr)\n\u001b[1;32m    182\u001b[0m         subscriber_registry[topic]\u001b[38;5;241m.\u001b[39munregister()\n",
      "\u001b[0;31mNameError\u001b[0m: name 'subscriber_registry' is not defined"
     ]
    }
   ],
   "source": [
    "topic_name = '/turtle1/pose'\n",
    "\n",
    "# Based on the dimensions of window controlled by teleop keyboard\n",
    "def convert_xy_units(x, y):\n",
    "    convert_factor = 11.08\n",
    "    x_convert = x / convert_factor * turtlesim.canvas.width\n",
    "    y_convert = (convert_factor - y) / convert_factor * turtlesim.canvas.height\n",
    "    \n",
    "    return x_convert, y_convert\n",
    "\n",
    "\n",
    "\n",
    "def callback_move_turtles(msg):\n",
    "    name = \"turtle1\"\n",
    "    x, y = convert_xy_units(msg.x, msg.y)\n",
    "    poses[name] = {\"x\": x,\n",
    "                   \"y\": y,\n",
    "                   \"theta\": msg.theta}\n",
    "    \n",
    "    turtlesim.move_turtles(new_poses=poses)\n",
    "\n",
    "jr2.subscribe(topic_name, Pose, lambda msg: callback_move_turtles(msg))"
   ]
  },
  {
   "cell_type": "markdown",
   "id": "9c6dfc83",
   "metadata": {},
   "source": [
    "### Spiral Publisher"
   ]
  },
  {
   "cell_type": "code",
   "execution_count": null,
   "id": "89d8777c-8fc1-4c05-a588-6eb2d638a76b",
   "metadata": {},
   "outputs": [],
   "source": [
    "run = True"
   ]
  },
  {
   "cell_type": "code",
   "execution_count": null,
   "id": "968252d1-23ce-44fd-b8b2-54a55aeec753",
   "metadata": {},
   "outputs": [],
   "source": [
    "%%thread_cell\n",
    "\n",
    "\n",
    "pub = rospy.Publisher(topic_name, Pose, queue_size=10, latch=True)\n",
    "i = 0\n",
    "\n",
    "while run:\n",
    "    msg = Pose()\n",
    "    msg.x = (i/1800*5)*math.sin(i / 180 * math.pi) + 11.08 / 2\n",
    "    msg.y = (i/1800*5)*math.cos(i / 180 * math.pi) + 11.08 / 2\n",
    "    msg.theta = - i / 180 * math.pi\n",
    "    pub.publish(msg)\n",
    "    rate.sleep()\n",
    "    i += 1\n",
    "print(\"Done\")"
   ]
  },
  {
   "cell_type": "code",
   "execution_count": null,
   "id": "7c512d54-7387-467f-af3e-0ea7dbd3242c",
   "metadata": {},
   "outputs": [],
   "source": [
    "run = False"
   ]
  },
  {
   "cell_type": "markdown",
   "id": "d0d4dfdb-6a18-471c-b3e9-5434ad8e1eb8",
   "metadata": {},
   "source": [
    "## Spawn Service and Client"
   ]
  },
  {
   "cell_type": "code",
   "execution_count": null,
   "id": "f2573361-99a6-4df6-9733-80932bbbc861",
   "metadata": {},
   "outputs": [],
   "source": [
    "def spawn_turtle(msg):\n",
    "    print(f\"Spawning turtle at x={msg.x} and y={msg.y}\")\n",
    "    turtlesim.spawn(name=msg.name, \n",
    "                    pose={\"x\": msg.x, \n",
    "                          \"y\": msg.y, \n",
    "                          \"theta\": msg.theta})\n",
    "    return \"Spawned\""
   ]
  },
  {
   "cell_type": "code",
   "execution_count": null,
   "id": "685412eb-b2e8-44ef-876d-7ffa2bec0f23",
   "metadata": {},
   "outputs": [],
   "source": [
    "%%thread_cell\n",
    "\n",
    "srv = rospy.Service('spawn_srv', Spawn, spawn_turtle)"
   ]
  },
  {
   "cell_type": "code",
   "execution_count": null,
   "id": "c5927be6-db42-4046-8250-38c00ae54fae",
   "metadata": {},
   "outputs": [],
   "source": [
    "jupyros.client('spawn_srv', Spawn)"
   ]
  }
 ],
 "metadata": {
  "kernelspec": {
   "display_name": "Python 3 (ipykernel)",
   "language": "python",
   "name": "python3"
  },
  "language_info": {
   "codemirror_mode": {
    "name": "ipython",
    "version": 3
   },
   "file_extension": ".py",
   "mimetype": "text/x-python",
   "name": "python",
   "nbconvert_exporter": "python",
   "pygments_lexer": "ipython3",
   "version": "3.8.10"
  }
 },
 "nbformat": 4,
 "nbformat_minor": 5
}
