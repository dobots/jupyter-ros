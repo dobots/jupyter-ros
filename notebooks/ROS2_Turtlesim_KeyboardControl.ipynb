{
 "cells": [
  {
   "cell_type": "code",
   "execution_count": 1,
   "id": "7259a8b6",
   "metadata": {},
   "outputs": [],
   "source": [
    "import rclpy as rp\n",
    "import jupyros.ros2 as jr2\n",
    "import turtle_sim as turtle\n",
    "from turtlesim.srv import Spawn\n",
    "from turtlesim.msg import Pose\n",
    "from time import time\n",
    "import os\n",
    "from std_msgs.msg import String\n",
    "from geometry_msgs.msg import Twist\n",
    "from sidecar import Sidecar\n",
    "from time import time, sleep\n",
    "import math\n",
    "\n"
   ]
  },
  {
   "cell_type": "code",
   "execution_count": 2,
   "id": "1964ecfc-67ee-47bf-aad3-824315c4418d",
   "metadata": {},
   "outputs": [],
   "source": [
    "# Initialize ROS communications for a given context\n",
    "if(rp.ok() == False):\n",
    "    rp.init()\n",
    "else:\n",
    "    print(\"rclpy already initiated\")"
   ]
  },
  {
   "cell_type": "code",
   "execution_count": 3,
   "id": "47354d6d-8c92-47ce-9f85-c0c1e403d8bf",
   "metadata": {},
   "outputs": [],
   "source": [
    "superturtle = rp.create_node(\"superturtle\")\n",
    "keyInput = rp.create_node(\"keyInput\")\n",
    "com = rp.create_node(\"com\")\n",
    "simple = rp.create_node(\"simple\")\n",
    "translate = rp.create_node(\"translate\")"
   ]
  },
  {
   "cell_type": "code",
   "execution_count": 4,
   "id": "3bdbfe05-c4d3-4fd3-abfa-f38b039d4541",
   "metadata": {},
   "outputs": [
    {
     "data": {
      "application/vnd.jupyter.widget-view+json": {
       "model_id": "d7b1e197e8984c2f807690172ed0c898",
       "version_major": 2,
       "version_minor": 0
      },
      "text/plain": [
       "Canvas()"
      ]
     },
     "metadata": {},
     "output_type": "display_data"
    },
    {
     "data": {
      "application/vnd.jupyter.widget-view+json": {
       "model_id": "184de71f60fd4c1c925081557b0a4da7",
       "version_major": 2,
       "version_minor": 0
      },
      "text/plain": [
       "Output()"
      ]
     },
     "metadata": {},
     "output_type": "display_data"
    }
   ],
   "source": [
    "key_send = jr2.KeyInput(keyInput, String, '/keyboard_stream')\n",
    "key_send.display_inputs()"
   ]
  },
  {
   "cell_type": "code",
   "execution_count": 5,
   "id": "2dbf024d",
   "metadata": {
    "tags": []
   },
   "outputs": [
    {
     "name": "stdout",
     "output_type": "stream",
     "text": [
      "turtle1 has spawned.\n"
     ]
    },
    {
     "data": {
      "application/vnd.jupyter.widget-view+json": {
       "model_id": "fd2ef7082eec462f9d2e3d8fccf17f4e",
       "version_major": 2,
       "version_minor": 0
      },
      "text/plain": [
       "MultiCanvas(height=1600, layout=Layout(width='100%'), width=1600)"
      ]
     },
     "metadata": {},
     "output_type": "display_data"
    }
   ],
   "source": [
    "turtlesim = turtle.TurtleSim(background_color=\"#0000FF\")\n",
    "display(turtlesim.canvas)"
   ]
  },
  {
   "cell_type": "code",
   "execution_count": null,
   "id": "347b508d-4568-4cc2-b8da-c05f26b6f606",
   "metadata": {
    "tags": []
   },
   "outputs": [],
   "source": []
  },
  {
   "cell_type": "markdown",
   "id": "ece1ece3-54f6-4df8-be79-42d7f37f6e08",
   "metadata": {},
   "source": [
    "**TIP:** When using JupyterLab, you can right-click on the canvas and select *Create New View from Output*"
   ]
  },
  {
   "cell_type": "code",
   "execution_count": 6,
   "id": "497db1e0-8c21-4ec0-b620-1607ab34d685",
   "metadata": {},
   "outputs": [
    {
     "name": "stdout",
     "output_type": "stream",
     "text": [
      "{'x': 800, 'y': 800, 'theta': 0}\n"
     ]
    }
   ],
   "source": [
    "poses = {}\n",
    "\n",
    "for name in turtlesim.turtles.keys():\n",
    "    poses[name] = turtlesim.turtles[name].pose\n",
    "    \n",
    "print(poses[\"turtle1\"])"
   ]
  },
  {
   "cell_type": "code",
   "execution_count": 7,
   "id": "cd2e66dc",
   "metadata": {},
   "outputs": [
    {
     "data": {
      "application/vnd.jupyter.widget-view+json": {
       "model_id": "ee32c9a9c0614b42a53a789270b323fb",
       "version_major": 2,
       "version_minor": 0
      },
      "text/plain": [
       "VBox(children=(HBox(children=(Button(description='Start', style=ButtonStyle()), Button(description='Stop', sty…"
      ]
     },
     "execution_count": 7,
     "metadata": {},
     "output_type": "execute_result"
    }
   ],
   "source": [
    "topic_name = '/keyboard_stream'\n",
    "def move_turtles(msg):\n",
    "    scale = 10000\n",
    "    name = \"turtle1\"\n",
    "    poses[name] = {\"x\": msg.linear.x/scale* turtlesim.canvas.width,\n",
    "                   \"y\": (scale-msg.linear.x) /scale * turtlesim.canvas.height,\n",
    "                   \"theta\": msg.angular.z/ 180 * math.pi}\n",
    "    \n",
    "    print(poses[name][\"x\"])\n",
    "    turtlesim.move_turtles(new_poses=poses)\n",
    "\n",
    "\n",
    "\n",
    "\n",
    "def cb(msg):\n",
    "    # Receive string msg and translate\n",
    "    \n",
    "    key = msg.data\n",
    "    \n",
    "    #### General Keybindings  \"key: (x, y, z, a (alpha), b (beta), g (gamma)\"\n",
    "    \n",
    "    moveBindings = {\n",
    "    'ArrowLeft': (0,0,0,0, 0, 1),\n",
    "    'ArrowRight':(0,0,0,0, 0, -1),\n",
    "    'ArrowUp': (1,0,0,0, 0, 0, 0),\n",
    "    'ArrowDown': (-1,0,0,0, 0, 0)\n",
    "    }\n",
    "\n",
    "    \"\"\"\n",
    "    'i': (1, 0, 0, 0, 0, 0),\n",
    "    'o': (1, 0, 0, -1, 0, 0)),\n",
    "    \"\"\"\n",
    "    \n",
    "    ## General Keybinding Decoder\n",
    "    if key in moveBindings.keys():\n",
    "        x = float(moveBindings[key][0])\n",
    "        y = float(moveBindings[key][1])\n",
    "        z = float(moveBindings[key][2])\n",
    "        a = float(moveBindings[key][3])\n",
    "        b = float(moveBindings[key][4])\n",
    "        g = float(moveBindings[key][5])\n",
    "        \n",
    "    else:\n",
    "        x = 0.0\n",
    "        y = 0.0\n",
    "        z = 0.0\n",
    "        a = 0.0\n",
    "        b = 0.0\n",
    "        g = 0.0\n",
    "        \n",
    "\n",
    "   \n",
    "    twist = Twist()\n",
    "    twist.linear.x = x\n",
    "    twist.angular.z = g \n",
    "\n",
    "    move_turtles(twist)\n",
    "\n",
    "\n",
    "turtle_control = jr2.Subscriber(keyInput, String, topic_name, cb)\n",
    "turtle_control.display()"
   ]
  },
  {
   "cell_type": "code",
   "execution_count": null,
   "id": "c0cd916b-41a7-4832-9470-328c1d30689b",
   "metadata": {},
   "outputs": [],
   "source": []
  }
 ],
 "metadata": {
  "kernelspec": {
   "display_name": "Python 3 (ipykernel)",
   "language": "python",
   "name": "python3"
  },
  "language_info": {
   "codemirror_mode": {
    "name": "ipython",
    "version": 3
   },
   "file_extension": ".py",
   "mimetype": "text/x-python",
   "name": "python",
   "nbconvert_exporter": "python",
   "pygments_lexer": "ipython3",
   "version": "3.8.10"
  }
 },
 "nbformat": 4,
 "nbformat_minor": 5
}
